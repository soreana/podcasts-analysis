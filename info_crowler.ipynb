{
 "cells": [
  {
   "cell_type": "markdown",
   "metadata": {},
   "source": [
    "# Info Crowler\n",
    "\n",
    "This IPython module crowles Genre, Genre IDs, Rating Count, Rating Average, Rating Percentage for each Rate and explicit status from iTunes website. It reads urls from csv filem urls_path on these information "
   ]
  },
  {
   "cell_type": "code",
   "execution_count": 6,
   "metadata": {},
   "outputs": [],
   "source": [
    "import logging\n",
    "import threading\n",
    "import time\n",
    "import concurrent.futures\n",
    "import pandas as pd \n",
    "import requests\n",
    "from pyquery import PyQuery as pq\n",
    "import datetime\n",
    "import sys\n",
    "import traceback\n",
    "\n",
    "urls_path = 'popular_urls.csv'\n",
    "output_name = r'./popular_info.csv'\n",
    "_range = 83\n",
    "max_len = 8285\n",
    "thread_num = 102\n",
    "\n",
    "names = [None]*max_len\n",
    "genres = [None]*max_len\n",
    "rating_count = [None]*max_len\n",
    "explicit = [None]*max_len\n",
    "rating_average = [None]*max_len\n",
    "rating_stars = [[None]*max_len,[None]*max_len,[None]*max_len,[None]*max_len,[None]*max_len] \n",
    "deleted_podcasts = []\n",
    "\n",
    "df = pd.read_csv(urls_path)"
   ]
  },
  {
   "cell_type": "markdown",
   "metadata": {},
   "source": [
    "### get_url_content\n",
    "\n",
    "Download iTunes webpage and returnes it's content."
   ]
  },
  {
   "cell_type": "code",
   "execution_count": 7,
   "metadata": {},
   "outputs": [],
   "source": [
    "def get_url_content( URL ):\n",
    "    S = requests.Session()\n",
    "    R = S.get(url=URL)\n",
    "    return R.content"
   ]
  },
  {
   "cell_type": "markdown",
   "metadata": {},
   "source": [
    "### extract_podcast_name\n",
    "\n",
    "Extract podcast name from provided html markdown"
   ]
  },
  {
   "cell_type": "code",
   "execution_count": 8,
   "metadata": {},
   "outputs": [],
   "source": [
    "def extract_podcast_name(html):\n",
    "    tmp = [html(\"span\").eq(i).attr('aria-label') for i in range(len(html(\"span\")))]\n",
    "    return [x for x in tmp if x is not None][0]"
   ]
  },
  {
   "cell_type": "markdown",
   "metadata": {},
   "source": [
    "### is_explicit\n",
    "\n",
    "Check to see if podcast is explicit or not."
   ]
  },
  {
   "cell_type": "code",
   "execution_count": 9,
   "metadata": {},
   "outputs": [],
   "source": [
    "def is_explicit(html):\n",
    "    if len(html(\".icon-explicit-large\")) == 0:\n",
    "        return 0\n",
    "    else:\n",
    "        return 1  "
   ]
  },
  {
   "cell_type": "markdown",
   "metadata": {},
   "source": [
    "### Threads\n",
    "\n",
    "To reduce the running time of application, we dispatch it on multiple threads."
   ]
  },
  {
   "cell_type": "code",
   "execution_count": null,
   "metadata": {},
   "outputs": [],
   "source": [
    "def thread_function(name):\n",
    "    _from = name * _range\n",
    "    _to = (name+1)* _range\n",
    "        \n",
    "    if(_to > max_len):\n",
    "        _to = max_len\n",
    "    \n",
    "    print(\"from: \" + str(_from) + \" to: \" + str(_to))\n",
    "        \n",
    "    for i in range(_from, _to):\n",
    "        try:\n",
    "            if(i%10 == 0):\n",
    "                print(str(_from) + \" --> \" + str(i))\n",
    "            content = get_url_content(df['url'][i])\n",
    "            d = pq(content)\n",
    "            names[i] = extract_podcast_name(d)\n",
    "            genres[i] = d(\"li.inline-list__item--bulleted.inline-list__item--bulleted\").text()\n",
    "            explicit[i] = is_explicit(d)\n",
    "            rating = d('div.we-customer-ratings')\n",
    "            rating_count[i] = rating('p').text()[:-8]\n",
    "            rating_average[i] = rating('span.we-customer-ratings__averages__display').text()\n",
    "            if(rating_count[i]!=''):\n",
    "                for k,j in zip(rating('div.we-star-bar-graph__bar__foreground-bar'),range(0,5)):\n",
    "                    rating_stars[j][i] = k.attrib.get('style')[7:-2]\n",
    "            else:\n",
    "                print('\\033[91m: Page: ' + df['url'][i] + ' don\\'t have rating.\\033[0m')\n",
    "                deleted_podcasts.append(i)\n",
    "                for j in range(0,5):\n",
    "                    rating_stars[j][i]=''\n",
    "        except:\n",
    "            print('\\033[91m' + str(len(deleted_podcasts)) + ': Page: ' + df['url'][i] + ' was deleted.\\033[0m')\n",
    "            do_something_with_exception()\n",
    "\n",
    "def do_something_with_exception():\n",
    "    exc_type, exc_value = sys.exc_info()[:2]\n",
    "    print ('Handling %s exception with message \"%s\" in %s' % \\\n",
    "        (exc_type.__name__, exc_value, threading.current_thread().name))\n",
    "    \n",
    "print(datetime.datetime.now().time())\n",
    "            \n",
    "threads = list()\n",
    "for index in range(thread_num):\n",
    "    x = threading.Thread(target=thread_function, args=(index,))\n",
    "    threads.append(x)\n",
    "    x.start()\n",
    "    \n",
    "for index, thread in enumerate(threads):\n",
    "    logging.info(\"Main    : before joining thread %d.\", index)\n",
    "    thread.join()\n",
    "    logging.info(\"Main    : thread %d done\", index)\n",
    "    \n",
    "print(datetime.datetime.now().time())"
   ]
  },
  {
   "cell_type": "markdown",
   "metadata": {},
   "source": [
    "### Insert data to table\n",
    "\n",
    "Insert crowled info from podcast's web page to dataframe and write it to the file name output_name"
   ]
  },
  {
   "cell_type": "code",
   "execution_count": 11,
   "metadata": {},
   "outputs": [],
   "source": [
    "df.insert(0, \"Name\", names, True) \n",
    "df.insert(1, \"Genre\", genres, True)\n",
    "df.insert(2, \"Rating Count\", rating_count, True) \n",
    "df.insert(3, \"Rating Average\", rating_average, True) \n",
    "df.insert(4, \"Rating 5 Star\", rating_stars[0], True) \n",
    "df.insert(5, \"Rating 4 Star\", rating_stars[1], True) \n",
    "df.insert(6, \"Rating 3 Star\", rating_stars[2], True) \n",
    "df.insert(7, \"Rating 2 Star\", rating_stars[3], True) \n",
    "df.insert(8, \"Rating 1 Star\", rating_stars[4], True) \n",
    "df.insert(9, \"is explicit\", explicit, True)\n",
    "\n",
    "df.to_csv(output_name, index = False, header=True)"
   ]
  },
  {
   "cell_type": "code",
   "execution_count": null,
   "metadata": {},
   "outputs": [],
   "source": []
  }
 ],
 "metadata": {
  "kernelspec": {
   "display_name": "Python 3",
   "language": "python",
   "name": "python3"
  },
  "language_info": {
   "codemirror_mode": {
    "name": "ipython",
    "version": 3
   },
   "file_extension": ".py",
   "mimetype": "text/x-python",
   "name": "python",
   "nbconvert_exporter": "python",
   "pygments_lexer": "ipython3",
   "version": "3.5.9"
  }
 },
 "nbformat": 4,
 "nbformat_minor": 4
}
